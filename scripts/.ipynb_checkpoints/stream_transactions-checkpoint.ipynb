{
 "cells": [
  {
   "cell_type": "code",
   "execution_count": 1,
   "id": "157ef782-8e8a-4903-978f-70e568b6156f",
   "metadata": {},
   "outputs": [],
   "source": [
    "import os\n",
    "import joblib\n",
    "import time\n",
    "import random\n",
    "import numpy as np\n",
    "import pandas as pd\n",
    "from faker import Faker\n",
    "from sklearn.preprocessing import LabelEncoder, StandardScaler"
   ]
  },
  {
   "cell_type": "code",
   "execution_count": 2,
   "id": "8447c7cc-8151-48e9-99e4-35e0375fc45c",
   "metadata": {},
   "outputs": [],
   "source": [
    "fake = Faker()"
   ]
  },
  {
   "cell_type": "code",
   "execution_count": 3,
   "id": "5d5974f8-9c5b-42ae-8167-e14105f16d0e",
   "metadata": {},
   "outputs": [],
   "source": [
    "model_path = \"../model/isolation_forest.pkl\" \n",
    "model = joblib.load(model_path)"
   ]
  },
  {
   "cell_type": "code",
   "execution_count": 4,
   "id": "dd7e7b2d-de5f-4de9-85aa-9d484c5e67c0",
   "metadata": {},
   "outputs": [],
   "source": [
    "transaction_types = ['Online Purchase', 'ATM Withdrawal', 'POS Purchase', 'Wire Transfer']\n",
    "merchants = ['Amazon', 'Walmart', 'Target', 'PayPal', 'BestBuy', 'Uber', 'Netflix']\n",
    "locations = ['New York', 'Los Angeles', 'Chicago', 'Houston', 'Miami', 'San Francisco']"
   ]
  },
  {
   "cell_type": "code",
   "execution_count": 5,
   "id": "39bca009-9977-475b-a494-18c2d3d0a0a3",
   "metadata": {},
   "outputs": [],
   "source": [
    "merchant_encoder = LabelEncoder().fit(merchants)\n",
    "location_encoder = LabelEncoder().fit(locations)\n",
    "transaction_type_encoder = LabelEncoder().fit(transaction_types)"
   ]
  },
  {
   "cell_type": "code",
   "execution_count": 6,
   "id": "112f1da9-4549-437d-a2e9-b8c6e929acc8",
   "metadata": {},
   "outputs": [
    {
     "data": {
      "text/html": [
       "<style>#sk-container-id-1 {\n",
       "  /* Definition of color scheme common for light and dark mode */\n",
       "  --sklearn-color-text: #000;\n",
       "  --sklearn-color-text-muted: #666;\n",
       "  --sklearn-color-line: gray;\n",
       "  /* Definition of color scheme for unfitted estimators */\n",
       "  --sklearn-color-unfitted-level-0: #fff5e6;\n",
       "  --sklearn-color-unfitted-level-1: #f6e4d2;\n",
       "  --sklearn-color-unfitted-level-2: #ffe0b3;\n",
       "  --sklearn-color-unfitted-level-3: chocolate;\n",
       "  /* Definition of color scheme for fitted estimators */\n",
       "  --sklearn-color-fitted-level-0: #f0f8ff;\n",
       "  --sklearn-color-fitted-level-1: #d4ebff;\n",
       "  --sklearn-color-fitted-level-2: #b3dbfd;\n",
       "  --sklearn-color-fitted-level-3: cornflowerblue;\n",
       "\n",
       "  /* Specific color for light theme */\n",
       "  --sklearn-color-text-on-default-background: var(--sg-text-color, var(--theme-code-foreground, var(--jp-content-font-color1, black)));\n",
       "  --sklearn-color-background: var(--sg-background-color, var(--theme-background, var(--jp-layout-color0, white)));\n",
       "  --sklearn-color-border-box: var(--sg-text-color, var(--theme-code-foreground, var(--jp-content-font-color1, black)));\n",
       "  --sklearn-color-icon: #696969;\n",
       "\n",
       "  @media (prefers-color-scheme: dark) {\n",
       "    /* Redefinition of color scheme for dark theme */\n",
       "    --sklearn-color-text-on-default-background: var(--sg-text-color, var(--theme-code-foreground, var(--jp-content-font-color1, white)));\n",
       "    --sklearn-color-background: var(--sg-background-color, var(--theme-background, var(--jp-layout-color0, #111)));\n",
       "    --sklearn-color-border-box: var(--sg-text-color, var(--theme-code-foreground, var(--jp-content-font-color1, white)));\n",
       "    --sklearn-color-icon: #878787;\n",
       "  }\n",
       "}\n",
       "\n",
       "#sk-container-id-1 {\n",
       "  color: var(--sklearn-color-text);\n",
       "}\n",
       "\n",
       "#sk-container-id-1 pre {\n",
       "  padding: 0;\n",
       "}\n",
       "\n",
       "#sk-container-id-1 input.sk-hidden--visually {\n",
       "  border: 0;\n",
       "  clip: rect(1px 1px 1px 1px);\n",
       "  clip: rect(1px, 1px, 1px, 1px);\n",
       "  height: 1px;\n",
       "  margin: -1px;\n",
       "  overflow: hidden;\n",
       "  padding: 0;\n",
       "  position: absolute;\n",
       "  width: 1px;\n",
       "}\n",
       "\n",
       "#sk-container-id-1 div.sk-dashed-wrapped {\n",
       "  border: 1px dashed var(--sklearn-color-line);\n",
       "  margin: 0 0.4em 0.5em 0.4em;\n",
       "  box-sizing: border-box;\n",
       "  padding-bottom: 0.4em;\n",
       "  background-color: var(--sklearn-color-background);\n",
       "}\n",
       "\n",
       "#sk-container-id-1 div.sk-container {\n",
       "  /* jupyter's `normalize.less` sets `[hidden] { display: none; }`\n",
       "     but bootstrap.min.css set `[hidden] { display: none !important; }`\n",
       "     so we also need the `!important` here to be able to override the\n",
       "     default hidden behavior on the sphinx rendered scikit-learn.org.\n",
       "     See: https://github.com/scikit-learn/scikit-learn/issues/21755 */\n",
       "  display: inline-block !important;\n",
       "  position: relative;\n",
       "}\n",
       "\n",
       "#sk-container-id-1 div.sk-text-repr-fallback {\n",
       "  display: none;\n",
       "}\n",
       "\n",
       "div.sk-parallel-item,\n",
       "div.sk-serial,\n",
       "div.sk-item {\n",
       "  /* draw centered vertical line to link estimators */\n",
       "  background-image: linear-gradient(var(--sklearn-color-text-on-default-background), var(--sklearn-color-text-on-default-background));\n",
       "  background-size: 2px 100%;\n",
       "  background-repeat: no-repeat;\n",
       "  background-position: center center;\n",
       "}\n",
       "\n",
       "/* Parallel-specific style estimator block */\n",
       "\n",
       "#sk-container-id-1 div.sk-parallel-item::after {\n",
       "  content: \"\";\n",
       "  width: 100%;\n",
       "  border-bottom: 2px solid var(--sklearn-color-text-on-default-background);\n",
       "  flex-grow: 1;\n",
       "}\n",
       "\n",
       "#sk-container-id-1 div.sk-parallel {\n",
       "  display: flex;\n",
       "  align-items: stretch;\n",
       "  justify-content: center;\n",
       "  background-color: var(--sklearn-color-background);\n",
       "  position: relative;\n",
       "}\n",
       "\n",
       "#sk-container-id-1 div.sk-parallel-item {\n",
       "  display: flex;\n",
       "  flex-direction: column;\n",
       "}\n",
       "\n",
       "#sk-container-id-1 div.sk-parallel-item:first-child::after {\n",
       "  align-self: flex-end;\n",
       "  width: 50%;\n",
       "}\n",
       "\n",
       "#sk-container-id-1 div.sk-parallel-item:last-child::after {\n",
       "  align-self: flex-start;\n",
       "  width: 50%;\n",
       "}\n",
       "\n",
       "#sk-container-id-1 div.sk-parallel-item:only-child::after {\n",
       "  width: 0;\n",
       "}\n",
       "\n",
       "/* Serial-specific style estimator block */\n",
       "\n",
       "#sk-container-id-1 div.sk-serial {\n",
       "  display: flex;\n",
       "  flex-direction: column;\n",
       "  align-items: center;\n",
       "  background-color: var(--sklearn-color-background);\n",
       "  padding-right: 1em;\n",
       "  padding-left: 1em;\n",
       "}\n",
       "\n",
       "\n",
       "/* Toggleable style: style used for estimator/Pipeline/ColumnTransformer box that is\n",
       "clickable and can be expanded/collapsed.\n",
       "- Pipeline and ColumnTransformer use this feature and define the default style\n",
       "- Estimators will overwrite some part of the style using the `sk-estimator` class\n",
       "*/\n",
       "\n",
       "/* Pipeline and ColumnTransformer style (default) */\n",
       "\n",
       "#sk-container-id-1 div.sk-toggleable {\n",
       "  /* Default theme specific background. It is overwritten whether we have a\n",
       "  specific estimator or a Pipeline/ColumnTransformer */\n",
       "  background-color: var(--sklearn-color-background);\n",
       "}\n",
       "\n",
       "/* Toggleable label */\n",
       "#sk-container-id-1 label.sk-toggleable__label {\n",
       "  cursor: pointer;\n",
       "  display: flex;\n",
       "  width: 100%;\n",
       "  margin-bottom: 0;\n",
       "  padding: 0.5em;\n",
       "  box-sizing: border-box;\n",
       "  text-align: center;\n",
       "  align-items: start;\n",
       "  justify-content: space-between;\n",
       "  gap: 0.5em;\n",
       "}\n",
       "\n",
       "#sk-container-id-1 label.sk-toggleable__label .caption {\n",
       "  font-size: 0.6rem;\n",
       "  font-weight: lighter;\n",
       "  color: var(--sklearn-color-text-muted);\n",
       "}\n",
       "\n",
       "#sk-container-id-1 label.sk-toggleable__label-arrow:before {\n",
       "  /* Arrow on the left of the label */\n",
       "  content: \"▸\";\n",
       "  float: left;\n",
       "  margin-right: 0.25em;\n",
       "  color: var(--sklearn-color-icon);\n",
       "}\n",
       "\n",
       "#sk-container-id-1 label.sk-toggleable__label-arrow:hover:before {\n",
       "  color: var(--sklearn-color-text);\n",
       "}\n",
       "\n",
       "/* Toggleable content - dropdown */\n",
       "\n",
       "#sk-container-id-1 div.sk-toggleable__content {\n",
       "  max-height: 0;\n",
       "  max-width: 0;\n",
       "  overflow: hidden;\n",
       "  text-align: left;\n",
       "  /* unfitted */\n",
       "  background-color: var(--sklearn-color-unfitted-level-0);\n",
       "}\n",
       "\n",
       "#sk-container-id-1 div.sk-toggleable__content.fitted {\n",
       "  /* fitted */\n",
       "  background-color: var(--sklearn-color-fitted-level-0);\n",
       "}\n",
       "\n",
       "#sk-container-id-1 div.sk-toggleable__content pre {\n",
       "  margin: 0.2em;\n",
       "  border-radius: 0.25em;\n",
       "  color: var(--sklearn-color-text);\n",
       "  /* unfitted */\n",
       "  background-color: var(--sklearn-color-unfitted-level-0);\n",
       "}\n",
       "\n",
       "#sk-container-id-1 div.sk-toggleable__content.fitted pre {\n",
       "  /* unfitted */\n",
       "  background-color: var(--sklearn-color-fitted-level-0);\n",
       "}\n",
       "\n",
       "#sk-container-id-1 input.sk-toggleable__control:checked~div.sk-toggleable__content {\n",
       "  /* Expand drop-down */\n",
       "  max-height: 200px;\n",
       "  max-width: 100%;\n",
       "  overflow: auto;\n",
       "}\n",
       "\n",
       "#sk-container-id-1 input.sk-toggleable__control:checked~label.sk-toggleable__label-arrow:before {\n",
       "  content: \"▾\";\n",
       "}\n",
       "\n",
       "/* Pipeline/ColumnTransformer-specific style */\n",
       "\n",
       "#sk-container-id-1 div.sk-label input.sk-toggleable__control:checked~label.sk-toggleable__label {\n",
       "  color: var(--sklearn-color-text);\n",
       "  background-color: var(--sklearn-color-unfitted-level-2);\n",
       "}\n",
       "\n",
       "#sk-container-id-1 div.sk-label.fitted input.sk-toggleable__control:checked~label.sk-toggleable__label {\n",
       "  background-color: var(--sklearn-color-fitted-level-2);\n",
       "}\n",
       "\n",
       "/* Estimator-specific style */\n",
       "\n",
       "/* Colorize estimator box */\n",
       "#sk-container-id-1 div.sk-estimator input.sk-toggleable__control:checked~label.sk-toggleable__label {\n",
       "  /* unfitted */\n",
       "  background-color: var(--sklearn-color-unfitted-level-2);\n",
       "}\n",
       "\n",
       "#sk-container-id-1 div.sk-estimator.fitted input.sk-toggleable__control:checked~label.sk-toggleable__label {\n",
       "  /* fitted */\n",
       "  background-color: var(--sklearn-color-fitted-level-2);\n",
       "}\n",
       "\n",
       "#sk-container-id-1 div.sk-label label.sk-toggleable__label,\n",
       "#sk-container-id-1 div.sk-label label {\n",
       "  /* The background is the default theme color */\n",
       "  color: var(--sklearn-color-text-on-default-background);\n",
       "}\n",
       "\n",
       "/* On hover, darken the color of the background */\n",
       "#sk-container-id-1 div.sk-label:hover label.sk-toggleable__label {\n",
       "  color: var(--sklearn-color-text);\n",
       "  background-color: var(--sklearn-color-unfitted-level-2);\n",
       "}\n",
       "\n",
       "/* Label box, darken color on hover, fitted */\n",
       "#sk-container-id-1 div.sk-label.fitted:hover label.sk-toggleable__label.fitted {\n",
       "  color: var(--sklearn-color-text);\n",
       "  background-color: var(--sklearn-color-fitted-level-2);\n",
       "}\n",
       "\n",
       "/* Estimator label */\n",
       "\n",
       "#sk-container-id-1 div.sk-label label {\n",
       "  font-family: monospace;\n",
       "  font-weight: bold;\n",
       "  display: inline-block;\n",
       "  line-height: 1.2em;\n",
       "}\n",
       "\n",
       "#sk-container-id-1 div.sk-label-container {\n",
       "  text-align: center;\n",
       "}\n",
       "\n",
       "/* Estimator-specific */\n",
       "#sk-container-id-1 div.sk-estimator {\n",
       "  font-family: monospace;\n",
       "  border: 1px dotted var(--sklearn-color-border-box);\n",
       "  border-radius: 0.25em;\n",
       "  box-sizing: border-box;\n",
       "  margin-bottom: 0.5em;\n",
       "  /* unfitted */\n",
       "  background-color: var(--sklearn-color-unfitted-level-0);\n",
       "}\n",
       "\n",
       "#sk-container-id-1 div.sk-estimator.fitted {\n",
       "  /* fitted */\n",
       "  background-color: var(--sklearn-color-fitted-level-0);\n",
       "}\n",
       "\n",
       "/* on hover */\n",
       "#sk-container-id-1 div.sk-estimator:hover {\n",
       "  /* unfitted */\n",
       "  background-color: var(--sklearn-color-unfitted-level-2);\n",
       "}\n",
       "\n",
       "#sk-container-id-1 div.sk-estimator.fitted:hover {\n",
       "  /* fitted */\n",
       "  background-color: var(--sklearn-color-fitted-level-2);\n",
       "}\n",
       "\n",
       "/* Specification for estimator info (e.g. \"i\" and \"?\") */\n",
       "\n",
       "/* Common style for \"i\" and \"?\" */\n",
       "\n",
       ".sk-estimator-doc-link,\n",
       "a:link.sk-estimator-doc-link,\n",
       "a:visited.sk-estimator-doc-link {\n",
       "  float: right;\n",
       "  font-size: smaller;\n",
       "  line-height: 1em;\n",
       "  font-family: monospace;\n",
       "  background-color: var(--sklearn-color-background);\n",
       "  border-radius: 1em;\n",
       "  height: 1em;\n",
       "  width: 1em;\n",
       "  text-decoration: none !important;\n",
       "  margin-left: 0.5em;\n",
       "  text-align: center;\n",
       "  /* unfitted */\n",
       "  border: var(--sklearn-color-unfitted-level-1) 1pt solid;\n",
       "  color: var(--sklearn-color-unfitted-level-1);\n",
       "}\n",
       "\n",
       ".sk-estimator-doc-link.fitted,\n",
       "a:link.sk-estimator-doc-link.fitted,\n",
       "a:visited.sk-estimator-doc-link.fitted {\n",
       "  /* fitted */\n",
       "  border: var(--sklearn-color-fitted-level-1) 1pt solid;\n",
       "  color: var(--sklearn-color-fitted-level-1);\n",
       "}\n",
       "\n",
       "/* On hover */\n",
       "div.sk-estimator:hover .sk-estimator-doc-link:hover,\n",
       ".sk-estimator-doc-link:hover,\n",
       "div.sk-label-container:hover .sk-estimator-doc-link:hover,\n",
       ".sk-estimator-doc-link:hover {\n",
       "  /* unfitted */\n",
       "  background-color: var(--sklearn-color-unfitted-level-3);\n",
       "  color: var(--sklearn-color-background);\n",
       "  text-decoration: none;\n",
       "}\n",
       "\n",
       "div.sk-estimator.fitted:hover .sk-estimator-doc-link.fitted:hover,\n",
       ".sk-estimator-doc-link.fitted:hover,\n",
       "div.sk-label-container:hover .sk-estimator-doc-link.fitted:hover,\n",
       ".sk-estimator-doc-link.fitted:hover {\n",
       "  /* fitted */\n",
       "  background-color: var(--sklearn-color-fitted-level-3);\n",
       "  color: var(--sklearn-color-background);\n",
       "  text-decoration: none;\n",
       "}\n",
       "\n",
       "/* Span, style for the box shown on hovering the info icon */\n",
       ".sk-estimator-doc-link span {\n",
       "  display: none;\n",
       "  z-index: 9999;\n",
       "  position: relative;\n",
       "  font-weight: normal;\n",
       "  right: .2ex;\n",
       "  padding: .5ex;\n",
       "  margin: .5ex;\n",
       "  width: min-content;\n",
       "  min-width: 20ex;\n",
       "  max-width: 50ex;\n",
       "  color: var(--sklearn-color-text);\n",
       "  box-shadow: 2pt 2pt 4pt #999;\n",
       "  /* unfitted */\n",
       "  background: var(--sklearn-color-unfitted-level-0);\n",
       "  border: .5pt solid var(--sklearn-color-unfitted-level-3);\n",
       "}\n",
       "\n",
       ".sk-estimator-doc-link.fitted span {\n",
       "  /* fitted */\n",
       "  background: var(--sklearn-color-fitted-level-0);\n",
       "  border: var(--sklearn-color-fitted-level-3);\n",
       "}\n",
       "\n",
       ".sk-estimator-doc-link:hover span {\n",
       "  display: block;\n",
       "}\n",
       "\n",
       "/* \"?\"-specific style due to the `<a>` HTML tag */\n",
       "\n",
       "#sk-container-id-1 a.estimator_doc_link {\n",
       "  float: right;\n",
       "  font-size: 1rem;\n",
       "  line-height: 1em;\n",
       "  font-family: monospace;\n",
       "  background-color: var(--sklearn-color-background);\n",
       "  border-radius: 1rem;\n",
       "  height: 1rem;\n",
       "  width: 1rem;\n",
       "  text-decoration: none;\n",
       "  /* unfitted */\n",
       "  color: var(--sklearn-color-unfitted-level-1);\n",
       "  border: var(--sklearn-color-unfitted-level-1) 1pt solid;\n",
       "}\n",
       "\n",
       "#sk-container-id-1 a.estimator_doc_link.fitted {\n",
       "  /* fitted */\n",
       "  border: var(--sklearn-color-fitted-level-1) 1pt solid;\n",
       "  color: var(--sklearn-color-fitted-level-1);\n",
       "}\n",
       "\n",
       "/* On hover */\n",
       "#sk-container-id-1 a.estimator_doc_link:hover {\n",
       "  /* unfitted */\n",
       "  background-color: var(--sklearn-color-unfitted-level-3);\n",
       "  color: var(--sklearn-color-background);\n",
       "  text-decoration: none;\n",
       "}\n",
       "\n",
       "#sk-container-id-1 a.estimator_doc_link.fitted:hover {\n",
       "  /* fitted */\n",
       "  background-color: var(--sklearn-color-fitted-level-3);\n",
       "}\n",
       "</style><div id=\"sk-container-id-1\" class=\"sk-top-container\"><div class=\"sk-text-repr-fallback\"><pre>StandardScaler()</pre><b>In a Jupyter environment, please rerun this cell to show the HTML representation or trust the notebook. <br />On GitHub, the HTML representation is unable to render, please try loading this page with nbviewer.org.</b></div><div class=\"sk-container\" hidden><div class=\"sk-item\"><div class=\"sk-estimator fitted sk-toggleable\"><input class=\"sk-toggleable__control sk-hidden--visually\" id=\"sk-estimator-id-1\" type=\"checkbox\" checked><label for=\"sk-estimator-id-1\" class=\"sk-toggleable__label fitted sk-toggleable__label-arrow\"><div><div>StandardScaler</div></div><div><a class=\"sk-estimator-doc-link fitted\" rel=\"noreferrer\" target=\"_blank\" href=\"https://scikit-learn.org/1.6/modules/generated/sklearn.preprocessing.StandardScaler.html\">?<span>Documentation for StandardScaler</span></a><span class=\"sk-estimator-doc-link fitted\">i<span>Fitted</span></span></div></label><div class=\"sk-toggleable__content fitted\"><pre>StandardScaler()</pre></div> </div></div></div></div>"
      ],
      "text/plain": [
       "StandardScaler()"
      ]
     },
     "execution_count": 6,
     "metadata": {},
     "output_type": "execute_result"
    }
   ],
   "source": [
    "scaler = StandardScaler()\n",
    "scaler.fit(np.array([[10], [5000], [20000]]))"
   ]
  },
  {
   "cell_type": "code",
   "execution_count": 7,
   "id": "b831ca4c-8b56-4d0b-abda-4239f621947a",
   "metadata": {},
   "outputs": [],
   "source": [
    "def generate_transaction():\n",
    "    fraud = random.random() < 0.075  # 7.5% fraud probability\n",
    "\n",
    "    return {\n",
    "        \"Amount\": round(random.uniform(10, 5000), 2) if not fraud else round(random.uniform(5000, 20000), 2),\n",
    "        \"Merchant\": random.choice(merchants),\n",
    "        \"Location\": random.choice(locations),\n",
    "        \"Transaction Type\": random.choice(transaction_types),\n",
    "        \"Timestamp\": time.strftime('%Y-%m-%d %H:%M:%S'),\n",
    "    }\n"
   ]
  },
  {
   "cell_type": "code",
   "execution_count": 8,
   "id": "7192b5a8-1152-46eb-a737-3ae20ec674e6",
   "metadata": {},
   "outputs": [],
   "source": [
    "def stream_transactions():\n",
    "    while True:\n",
    "        transaction = generate_transaction()\n",
    "\n",
    "        # Encode categorical features\n",
    "        merchant_encoded = merchant_encoder.transform([transaction[\"Merchant\"]])[0]\n",
    "        location_encoded = location_encoder.transform([transaction[\"Location\"]])[0]\n",
    "        transaction_type_encoded = transaction_type_encoder.transform([transaction[\"Transaction Type\"]])[0]\n",
    "        \n",
    "        # scaling amount\n",
    "        amount_scaled = scaler.transform([[transaction[\"Amount\"]]])[0][0]\n",
    "\n",
    "        features = np.array([[amount_scaled, merchant_encoded, location_encoded, transaction_type_encoded]])\n",
    "\n",
    "        prediction = model.predict(features)\n",
    "\n",
    "        print(f\"[{transaction['Timestamp']}] Transaction: {transaction}, Prediction: {'🛑 Fraud' if prediction[0] == -1 else '✅ Legit'}\")\n",
    "\n",
    "        time.sleep(1) "
   ]
  },
  {
   "cell_type": "code",
   "execution_count": null,
   "id": "33d734f0-f2c2-47a6-90ca-086b60b0a66a",
   "metadata": {},
   "outputs": [
    {
     "name": "stderr",
     "output_type": "stream",
     "text": [
      "/Users/kdn_aigayatrikadam/Desktop/fraud detection/env/lib/python3.13/site-packages/sklearn/utils/validation.py:2739: UserWarning: X does not have valid feature names, but IsolationForest was fitted with feature names\n",
      "  warnings.warn(\n"
     ]
    },
    {
     "name": "stdout",
     "output_type": "stream",
     "text": [
      "[2025-02-09 16:17:18] Transaction: {'Amount': 4140.29, 'Merchant': 'Target', 'Location': 'Houston', 'Transaction Type': 'ATM Withdrawal', 'Timestamp': '2025-02-09 16:17:18'}, Prediction: ✅ Legit\n"
     ]
    },
    {
     "name": "stderr",
     "output_type": "stream",
     "text": [
      "/Users/kdn_aigayatrikadam/Desktop/fraud detection/env/lib/python3.13/site-packages/sklearn/utils/validation.py:2739: UserWarning: X does not have valid feature names, but IsolationForest was fitted with feature names\n",
      "  warnings.warn(\n"
     ]
    },
    {
     "name": "stdout",
     "output_type": "stream",
     "text": [
      "[2025-02-09 16:17:19] Transaction: {'Amount': 4598.57, 'Merchant': 'Netflix', 'Location': 'Los Angeles', 'Transaction Type': 'ATM Withdrawal', 'Timestamp': '2025-02-09 16:17:19'}, Prediction: ✅ Legit\n"
     ]
    },
    {
     "name": "stderr",
     "output_type": "stream",
     "text": [
      "/Users/kdn_aigayatrikadam/Desktop/fraud detection/env/lib/python3.13/site-packages/sklearn/utils/validation.py:2739: UserWarning: X does not have valid feature names, but IsolationForest was fitted with feature names\n",
      "  warnings.warn(\n"
     ]
    },
    {
     "name": "stdout",
     "output_type": "stream",
     "text": [
      "[2025-02-09 16:17:20] Transaction: {'Amount': 9423.53, 'Merchant': 'PayPal', 'Location': 'New York', 'Transaction Type': 'POS Purchase', 'Timestamp': '2025-02-09 16:17:20'}, Prediction: ✅ Legit\n"
     ]
    },
    {
     "name": "stderr",
     "output_type": "stream",
     "text": [
      "/Users/kdn_aigayatrikadam/Desktop/fraud detection/env/lib/python3.13/site-packages/sklearn/utils/validation.py:2739: UserWarning: X does not have valid feature names, but IsolationForest was fitted with feature names\n",
      "  warnings.warn(\n"
     ]
    },
    {
     "name": "stdout",
     "output_type": "stream",
     "text": [
      "[2025-02-09 16:17:21] Transaction: {'Amount': 1404.9, 'Merchant': 'Uber', 'Location': 'San Francisco', 'Transaction Type': 'Wire Transfer', 'Timestamp': '2025-02-09 16:17:21'}, Prediction: ✅ Legit\n"
     ]
    },
    {
     "name": "stderr",
     "output_type": "stream",
     "text": [
      "/Users/kdn_aigayatrikadam/Desktop/fraud detection/env/lib/python3.13/site-packages/sklearn/utils/validation.py:2739: UserWarning: X does not have valid feature names, but IsolationForest was fitted with feature names\n",
      "  warnings.warn(\n"
     ]
    },
    {
     "name": "stdout",
     "output_type": "stream",
     "text": [
      "[2025-02-09 16:17:22] Transaction: {'Amount': 1420.64, 'Merchant': 'Netflix', 'Location': 'Chicago', 'Transaction Type': 'Online Purchase', 'Timestamp': '2025-02-09 16:17:22'}, Prediction: ✅ Legit\n"
     ]
    },
    {
     "name": "stderr",
     "output_type": "stream",
     "text": [
      "/Users/kdn_aigayatrikadam/Desktop/fraud detection/env/lib/python3.13/site-packages/sklearn/utils/validation.py:2739: UserWarning: X does not have valid feature names, but IsolationForest was fitted with feature names\n",
      "  warnings.warn(\n"
     ]
    },
    {
     "name": "stdout",
     "output_type": "stream",
     "text": [
      "[2025-02-09 16:17:23] Transaction: {'Amount': 3225.44, 'Merchant': 'PayPal', 'Location': 'Miami', 'Transaction Type': 'POS Purchase', 'Timestamp': '2025-02-09 16:17:23'}, Prediction: ✅ Legit\n"
     ]
    },
    {
     "name": "stderr",
     "output_type": "stream",
     "text": [
      "/Users/kdn_aigayatrikadam/Desktop/fraud detection/env/lib/python3.13/site-packages/sklearn/utils/validation.py:2739: UserWarning: X does not have valid feature names, but IsolationForest was fitted with feature names\n",
      "  warnings.warn(\n"
     ]
    },
    {
     "name": "stdout",
     "output_type": "stream",
     "text": [
      "[2025-02-09 16:17:24] Transaction: {'Amount': 2395.04, 'Merchant': 'Target', 'Location': 'Miami', 'Transaction Type': 'Wire Transfer', 'Timestamp': '2025-02-09 16:17:24'}, Prediction: ✅ Legit\n"
     ]
    },
    {
     "name": "stderr",
     "output_type": "stream",
     "text": [
      "/Users/kdn_aigayatrikadam/Desktop/fraud detection/env/lib/python3.13/site-packages/sklearn/utils/validation.py:2739: UserWarning: X does not have valid feature names, but IsolationForest was fitted with feature names\n",
      "  warnings.warn(\n"
     ]
    },
    {
     "name": "stdout",
     "output_type": "stream",
     "text": [
      "[2025-02-09 16:17:25] Transaction: {'Amount': 643.21, 'Merchant': 'PayPal', 'Location': 'New York', 'Transaction Type': 'POS Purchase', 'Timestamp': '2025-02-09 16:17:25'}, Prediction: ✅ Legit\n"
     ]
    },
    {
     "name": "stderr",
     "output_type": "stream",
     "text": [
      "/Users/kdn_aigayatrikadam/Desktop/fraud detection/env/lib/python3.13/site-packages/sklearn/utils/validation.py:2739: UserWarning: X does not have valid feature names, but IsolationForest was fitted with feature names\n",
      "  warnings.warn(\n"
     ]
    },
    {
     "name": "stdout",
     "output_type": "stream",
     "text": [
      "[2025-02-09 16:17:26] Transaction: {'Amount': 1807.74, 'Merchant': 'Netflix', 'Location': 'Miami', 'Transaction Type': 'POS Purchase', 'Timestamp': '2025-02-09 16:17:26'}, Prediction: ✅ Legit\n"
     ]
    },
    {
     "name": "stderr",
     "output_type": "stream",
     "text": [
      "/Users/kdn_aigayatrikadam/Desktop/fraud detection/env/lib/python3.13/site-packages/sklearn/utils/validation.py:2739: UserWarning: X does not have valid feature names, but IsolationForest was fitted with feature names\n",
      "  warnings.warn(\n"
     ]
    },
    {
     "name": "stdout",
     "output_type": "stream",
     "text": [
      "[2025-02-09 16:17:27] Transaction: {'Amount': 2590.82, 'Merchant': 'Walmart', 'Location': 'Los Angeles', 'Transaction Type': 'ATM Withdrawal', 'Timestamp': '2025-02-09 16:17:27'}, Prediction: ✅ Legit\n"
     ]
    },
    {
     "name": "stderr",
     "output_type": "stream",
     "text": [
      "/Users/kdn_aigayatrikadam/Desktop/fraud detection/env/lib/python3.13/site-packages/sklearn/utils/validation.py:2739: UserWarning: X does not have valid feature names, but IsolationForest was fitted with feature names\n",
      "  warnings.warn(\n"
     ]
    },
    {
     "name": "stdout",
     "output_type": "stream",
     "text": [
      "[2025-02-09 16:17:28] Transaction: {'Amount': 3687.27, 'Merchant': 'Walmart', 'Location': 'Los Angeles', 'Transaction Type': 'Wire Transfer', 'Timestamp': '2025-02-09 16:17:28'}, Prediction: ✅ Legit\n"
     ]
    },
    {
     "name": "stderr",
     "output_type": "stream",
     "text": [
      "/Users/kdn_aigayatrikadam/Desktop/fraud detection/env/lib/python3.13/site-packages/sklearn/utils/validation.py:2739: UserWarning: X does not have valid feature names, but IsolationForest was fitted with feature names\n",
      "  warnings.warn(\n"
     ]
    },
    {
     "name": "stdout",
     "output_type": "stream",
     "text": [
      "[2025-02-09 16:17:29] Transaction: {'Amount': 2743.32, 'Merchant': 'PayPal', 'Location': 'Miami', 'Transaction Type': 'Wire Transfer', 'Timestamp': '2025-02-09 16:17:29'}, Prediction: ✅ Legit\n"
     ]
    },
    {
     "name": "stderr",
     "output_type": "stream",
     "text": [
      "/Users/kdn_aigayatrikadam/Desktop/fraud detection/env/lib/python3.13/site-packages/sklearn/utils/validation.py:2739: UserWarning: X does not have valid feature names, but IsolationForest was fitted with feature names\n",
      "  warnings.warn(\n"
     ]
    },
    {
     "name": "stdout",
     "output_type": "stream",
     "text": [
      "[2025-02-09 16:17:30] Transaction: {'Amount': 9129.84, 'Merchant': 'BestBuy', 'Location': 'San Francisco', 'Transaction Type': 'POS Purchase', 'Timestamp': '2025-02-09 16:17:30'}, Prediction: ✅ Legit\n"
     ]
    },
    {
     "name": "stderr",
     "output_type": "stream",
     "text": [
      "/Users/kdn_aigayatrikadam/Desktop/fraud detection/env/lib/python3.13/site-packages/sklearn/utils/validation.py:2739: UserWarning: X does not have valid feature names, but IsolationForest was fitted with feature names\n",
      "  warnings.warn(\n"
     ]
    },
    {
     "name": "stdout",
     "output_type": "stream",
     "text": [
      "[2025-02-09 16:17:31] Transaction: {'Amount': 2601.65, 'Merchant': 'Uber', 'Location': 'Los Angeles', 'Transaction Type': 'ATM Withdrawal', 'Timestamp': '2025-02-09 16:17:31'}, Prediction: ✅ Legit\n"
     ]
    },
    {
     "name": "stderr",
     "output_type": "stream",
     "text": [
      "/Users/kdn_aigayatrikadam/Desktop/fraud detection/env/lib/python3.13/site-packages/sklearn/utils/validation.py:2739: UserWarning: X does not have valid feature names, but IsolationForest was fitted with feature names\n",
      "  warnings.warn(\n"
     ]
    },
    {
     "name": "stdout",
     "output_type": "stream",
     "text": [
      "[2025-02-09 16:17:32] Transaction: {'Amount': 4041.15, 'Merchant': 'Amazon', 'Location': 'San Francisco', 'Transaction Type': 'POS Purchase', 'Timestamp': '2025-02-09 16:17:32'}, Prediction: ✅ Legit\n"
     ]
    },
    {
     "name": "stderr",
     "output_type": "stream",
     "text": [
      "/Users/kdn_aigayatrikadam/Desktop/fraud detection/env/lib/python3.13/site-packages/sklearn/utils/validation.py:2739: UserWarning: X does not have valid feature names, but IsolationForest was fitted with feature names\n",
      "  warnings.warn(\n"
     ]
    },
    {
     "name": "stdout",
     "output_type": "stream",
     "text": [
      "[2025-02-09 16:17:33] Transaction: {'Amount': 4788.35, 'Merchant': 'Walmart', 'Location': 'San Francisco', 'Transaction Type': 'Online Purchase', 'Timestamp': '2025-02-09 16:17:33'}, Prediction: ✅ Legit\n"
     ]
    },
    {
     "name": "stderr",
     "output_type": "stream",
     "text": [
      "/Users/kdn_aigayatrikadam/Desktop/fraud detection/env/lib/python3.13/site-packages/sklearn/utils/validation.py:2739: UserWarning: X does not have valid feature names, but IsolationForest was fitted with feature names\n",
      "  warnings.warn(\n"
     ]
    },
    {
     "name": "stdout",
     "output_type": "stream",
     "text": [
      "[2025-02-09 16:17:34] Transaction: {'Amount': 4135.4, 'Merchant': 'PayPal', 'Location': 'Miami', 'Transaction Type': 'POS Purchase', 'Timestamp': '2025-02-09 16:17:34'}, Prediction: ✅ Legit\n"
     ]
    },
    {
     "name": "stderr",
     "output_type": "stream",
     "text": [
      "/Users/kdn_aigayatrikadam/Desktop/fraud detection/env/lib/python3.13/site-packages/sklearn/utils/validation.py:2739: UserWarning: X does not have valid feature names, but IsolationForest was fitted with feature names\n",
      "  warnings.warn(\n"
     ]
    },
    {
     "name": "stdout",
     "output_type": "stream",
     "text": [
      "[2025-02-09 16:17:35] Transaction: {'Amount': 1300.99, 'Merchant': 'Uber', 'Location': 'Chicago', 'Transaction Type': 'Wire Transfer', 'Timestamp': '2025-02-09 16:17:35'}, Prediction: ✅ Legit\n"
     ]
    },
    {
     "name": "stderr",
     "output_type": "stream",
     "text": [
      "/Users/kdn_aigayatrikadam/Desktop/fraud detection/env/lib/python3.13/site-packages/sklearn/utils/validation.py:2739: UserWarning: X does not have valid feature names, but IsolationForest was fitted with feature names\n",
      "  warnings.warn(\n"
     ]
    },
    {
     "name": "stdout",
     "output_type": "stream",
     "text": [
      "[2025-02-09 16:17:36] Transaction: {'Amount': 4292.41, 'Merchant': 'Netflix', 'Location': 'Los Angeles', 'Transaction Type': 'ATM Withdrawal', 'Timestamp': '2025-02-09 16:17:36'}, Prediction: ✅ Legit\n"
     ]
    },
    {
     "name": "stderr",
     "output_type": "stream",
     "text": [
      "/Users/kdn_aigayatrikadam/Desktop/fraud detection/env/lib/python3.13/site-packages/sklearn/utils/validation.py:2739: UserWarning: X does not have valid feature names, but IsolationForest was fitted with feature names\n",
      "  warnings.warn(\n"
     ]
    },
    {
     "name": "stdout",
     "output_type": "stream",
     "text": [
      "[2025-02-09 16:17:37] Transaction: {'Amount': 1717.79, 'Merchant': 'Amazon', 'Location': 'New York', 'Transaction Type': 'POS Purchase', 'Timestamp': '2025-02-09 16:17:37'}, Prediction: ✅ Legit\n"
     ]
    },
    {
     "name": "stderr",
     "output_type": "stream",
     "text": [
      "/Users/kdn_aigayatrikadam/Desktop/fraud detection/env/lib/python3.13/site-packages/sklearn/utils/validation.py:2739: UserWarning: X does not have valid feature names, but IsolationForest was fitted with feature names\n",
      "  warnings.warn(\n"
     ]
    },
    {
     "name": "stdout",
     "output_type": "stream",
     "text": [
      "[2025-02-09 16:17:38] Transaction: {'Amount': 2409.5, 'Merchant': 'BestBuy', 'Location': 'San Francisco', 'Transaction Type': 'ATM Withdrawal', 'Timestamp': '2025-02-09 16:17:38'}, Prediction: ✅ Legit\n"
     ]
    },
    {
     "name": "stderr",
     "output_type": "stream",
     "text": [
      "/Users/kdn_aigayatrikadam/Desktop/fraud detection/env/lib/python3.13/site-packages/sklearn/utils/validation.py:2739: UserWarning: X does not have valid feature names, but IsolationForest was fitted with feature names\n",
      "  warnings.warn(\n"
     ]
    },
    {
     "name": "stdout",
     "output_type": "stream",
     "text": [
      "[2025-02-09 16:17:39] Transaction: {'Amount': 366.95, 'Merchant': 'PayPal', 'Location': 'Miami', 'Transaction Type': 'Wire Transfer', 'Timestamp': '2025-02-09 16:17:39'}, Prediction: ✅ Legit\n"
     ]
    },
    {
     "name": "stderr",
     "output_type": "stream",
     "text": [
      "/Users/kdn_aigayatrikadam/Desktop/fraud detection/env/lib/python3.13/site-packages/sklearn/utils/validation.py:2739: UserWarning: X does not have valid feature names, but IsolationForest was fitted with feature names\n",
      "  warnings.warn(\n"
     ]
    },
    {
     "name": "stdout",
     "output_type": "stream",
     "text": [
      "[2025-02-09 16:17:40] Transaction: {'Amount': 198.26, 'Merchant': 'BestBuy', 'Location': 'New York', 'Transaction Type': 'POS Purchase', 'Timestamp': '2025-02-09 16:17:40'}, Prediction: ✅ Legit\n"
     ]
    },
    {
     "name": "stderr",
     "output_type": "stream",
     "text": [
      "/Users/kdn_aigayatrikadam/Desktop/fraud detection/env/lib/python3.13/site-packages/sklearn/utils/validation.py:2739: UserWarning: X does not have valid feature names, but IsolationForest was fitted with feature names\n",
      "  warnings.warn(\n"
     ]
    },
    {
     "name": "stdout",
     "output_type": "stream",
     "text": [
      "[2025-02-09 16:17:41] Transaction: {'Amount': 3577.39, 'Merchant': 'Target', 'Location': 'Houston', 'Transaction Type': 'Wire Transfer', 'Timestamp': '2025-02-09 16:17:41'}, Prediction: ✅ Legit\n"
     ]
    },
    {
     "name": "stderr",
     "output_type": "stream",
     "text": [
      "/Users/kdn_aigayatrikadam/Desktop/fraud detection/env/lib/python3.13/site-packages/sklearn/utils/validation.py:2739: UserWarning: X does not have valid feature names, but IsolationForest was fitted with feature names\n",
      "  warnings.warn(\n"
     ]
    },
    {
     "name": "stdout",
     "output_type": "stream",
     "text": [
      "[2025-02-09 16:17:42] Transaction: {'Amount': 4775.59, 'Merchant': 'Amazon', 'Location': 'New York', 'Transaction Type': 'Online Purchase', 'Timestamp': '2025-02-09 16:17:42'}, Prediction: ✅ Legit\n"
     ]
    },
    {
     "name": "stderr",
     "output_type": "stream",
     "text": [
      "/Users/kdn_aigayatrikadam/Desktop/fraud detection/env/lib/python3.13/site-packages/sklearn/utils/validation.py:2739: UserWarning: X does not have valid feature names, but IsolationForest was fitted with feature names\n",
      "  warnings.warn(\n"
     ]
    },
    {
     "name": "stdout",
     "output_type": "stream",
     "text": [
      "[2025-02-09 16:17:43] Transaction: {'Amount': 3614.65, 'Merchant': 'BestBuy', 'Location': 'Miami', 'Transaction Type': 'POS Purchase', 'Timestamp': '2025-02-09 16:17:43'}, Prediction: ✅ Legit\n"
     ]
    },
    {
     "name": "stderr",
     "output_type": "stream",
     "text": [
      "/Users/kdn_aigayatrikadam/Desktop/fraud detection/env/lib/python3.13/site-packages/sklearn/utils/validation.py:2739: UserWarning: X does not have valid feature names, but IsolationForest was fitted with feature names\n",
      "  warnings.warn(\n"
     ]
    },
    {
     "name": "stdout",
     "output_type": "stream",
     "text": [
      "[2025-02-09 16:17:44] Transaction: {'Amount': 3346.99, 'Merchant': 'PayPal', 'Location': 'Houston', 'Transaction Type': 'ATM Withdrawal', 'Timestamp': '2025-02-09 16:17:44'}, Prediction: ✅ Legit\n"
     ]
    },
    {
     "name": "stderr",
     "output_type": "stream",
     "text": [
      "/Users/kdn_aigayatrikadam/Desktop/fraud detection/env/lib/python3.13/site-packages/sklearn/utils/validation.py:2739: UserWarning: X does not have valid feature names, but IsolationForest was fitted with feature names\n",
      "  warnings.warn(\n"
     ]
    },
    {
     "name": "stdout",
     "output_type": "stream",
     "text": [
      "[2025-02-09 16:17:45] Transaction: {'Amount': 3987.2, 'Merchant': 'PayPal', 'Location': 'New York', 'Transaction Type': 'Wire Transfer', 'Timestamp': '2025-02-09 16:17:45'}, Prediction: ✅ Legit\n"
     ]
    },
    {
     "name": "stderr",
     "output_type": "stream",
     "text": [
      "/Users/kdn_aigayatrikadam/Desktop/fraud detection/env/lib/python3.13/site-packages/sklearn/utils/validation.py:2739: UserWarning: X does not have valid feature names, but IsolationForest was fitted with feature names\n",
      "  warnings.warn(\n"
     ]
    },
    {
     "name": "stdout",
     "output_type": "stream",
     "text": [
      "[2025-02-09 16:17:47] Transaction: {'Amount': 3267.27, 'Merchant': 'Target', 'Location': 'New York', 'Transaction Type': 'Online Purchase', 'Timestamp': '2025-02-09 16:17:47'}, Prediction: ✅ Legit\n"
     ]
    },
    {
     "name": "stderr",
     "output_type": "stream",
     "text": [
      "/Users/kdn_aigayatrikadam/Desktop/fraud detection/env/lib/python3.13/site-packages/sklearn/utils/validation.py:2739: UserWarning: X does not have valid feature names, but IsolationForest was fitted with feature names\n",
      "  warnings.warn(\n"
     ]
    },
    {
     "name": "stdout",
     "output_type": "stream",
     "text": [
      "[2025-02-09 16:17:48] Transaction: {'Amount': 1371.28, 'Merchant': 'Netflix', 'Location': 'San Francisco', 'Transaction Type': 'POS Purchase', 'Timestamp': '2025-02-09 16:17:48'}, Prediction: ✅ Legit\n"
     ]
    },
    {
     "name": "stderr",
     "output_type": "stream",
     "text": [
      "/Users/kdn_aigayatrikadam/Desktop/fraud detection/env/lib/python3.13/site-packages/sklearn/utils/validation.py:2739: UserWarning: X does not have valid feature names, but IsolationForest was fitted with feature names\n",
      "  warnings.warn(\n"
     ]
    },
    {
     "name": "stdout",
     "output_type": "stream",
     "text": [
      "[2025-02-09 16:17:49] Transaction: {'Amount': 2236.56, 'Merchant': 'Target', 'Location': 'Chicago', 'Transaction Type': 'Online Purchase', 'Timestamp': '2025-02-09 16:17:49'}, Prediction: ✅ Legit\n"
     ]
    },
    {
     "name": "stderr",
     "output_type": "stream",
     "text": [
      "/Users/kdn_aigayatrikadam/Desktop/fraud detection/env/lib/python3.13/site-packages/sklearn/utils/validation.py:2739: UserWarning: X does not have valid feature names, but IsolationForest was fitted with feature names\n",
      "  warnings.warn(\n"
     ]
    },
    {
     "name": "stdout",
     "output_type": "stream",
     "text": [
      "[2025-02-09 16:17:50] Transaction: {'Amount': 953.59, 'Merchant': 'Walmart', 'Location': 'Houston', 'Transaction Type': 'ATM Withdrawal', 'Timestamp': '2025-02-09 16:17:50'}, Prediction: ✅ Legit\n"
     ]
    },
    {
     "name": "stderr",
     "output_type": "stream",
     "text": [
      "/Users/kdn_aigayatrikadam/Desktop/fraud detection/env/lib/python3.13/site-packages/sklearn/utils/validation.py:2739: UserWarning: X does not have valid feature names, but IsolationForest was fitted with feature names\n",
      "  warnings.warn(\n"
     ]
    },
    {
     "name": "stdout",
     "output_type": "stream",
     "text": [
      "[2025-02-09 16:17:51] Transaction: {'Amount': 4213.69, 'Merchant': 'Walmart', 'Location': 'New York', 'Transaction Type': 'Online Purchase', 'Timestamp': '2025-02-09 16:17:51'}, Prediction: ✅ Legit\n"
     ]
    },
    {
     "name": "stderr",
     "output_type": "stream",
     "text": [
      "/Users/kdn_aigayatrikadam/Desktop/fraud detection/env/lib/python3.13/site-packages/sklearn/utils/validation.py:2739: UserWarning: X does not have valid feature names, but IsolationForest was fitted with feature names\n",
      "  warnings.warn(\n"
     ]
    },
    {
     "name": "stdout",
     "output_type": "stream",
     "text": [
      "[2025-02-09 16:17:52] Transaction: {'Amount': 4434.71, 'Merchant': 'BestBuy', 'Location': 'Miami', 'Transaction Type': 'ATM Withdrawal', 'Timestamp': '2025-02-09 16:17:52'}, Prediction: ✅ Legit\n"
     ]
    },
    {
     "name": "stderr",
     "output_type": "stream",
     "text": [
      "/Users/kdn_aigayatrikadam/Desktop/fraud detection/env/lib/python3.13/site-packages/sklearn/utils/validation.py:2739: UserWarning: X does not have valid feature names, but IsolationForest was fitted with feature names\n",
      "  warnings.warn(\n"
     ]
    },
    {
     "name": "stdout",
     "output_type": "stream",
     "text": [
      "[2025-02-09 16:17:53] Transaction: {'Amount': 1990.32, 'Merchant': 'Amazon', 'Location': 'New York', 'Transaction Type': 'Online Purchase', 'Timestamp': '2025-02-09 16:17:53'}, Prediction: ✅ Legit\n"
     ]
    },
    {
     "name": "stderr",
     "output_type": "stream",
     "text": [
      "/Users/kdn_aigayatrikadam/Desktop/fraud detection/env/lib/python3.13/site-packages/sklearn/utils/validation.py:2739: UserWarning: X does not have valid feature names, but IsolationForest was fitted with feature names\n",
      "  warnings.warn(\n"
     ]
    },
    {
     "name": "stdout",
     "output_type": "stream",
     "text": [
      "[2025-02-09 16:17:54] Transaction: {'Amount': 662.38, 'Merchant': 'Target', 'Location': 'Los Angeles', 'Transaction Type': 'Online Purchase', 'Timestamp': '2025-02-09 16:17:54'}, Prediction: ✅ Legit\n"
     ]
    },
    {
     "name": "stderr",
     "output_type": "stream",
     "text": [
      "/Users/kdn_aigayatrikadam/Desktop/fraud detection/env/lib/python3.13/site-packages/sklearn/utils/validation.py:2739: UserWarning: X does not have valid feature names, but IsolationForest was fitted with feature names\n",
      "  warnings.warn(\n"
     ]
    },
    {
     "name": "stdout",
     "output_type": "stream",
     "text": [
      "[2025-02-09 16:17:55] Transaction: {'Amount': 1180.36, 'Merchant': 'Target', 'Location': 'Houston', 'Transaction Type': 'ATM Withdrawal', 'Timestamp': '2025-02-09 16:17:55'}, Prediction: ✅ Legit\n"
     ]
    },
    {
     "name": "stderr",
     "output_type": "stream",
     "text": [
      "/Users/kdn_aigayatrikadam/Desktop/fraud detection/env/lib/python3.13/site-packages/sklearn/utils/validation.py:2739: UserWarning: X does not have valid feature names, but IsolationForest was fitted with feature names\n",
      "  warnings.warn(\n"
     ]
    },
    {
     "name": "stdout",
     "output_type": "stream",
     "text": [
      "[2025-02-09 16:17:56] Transaction: {'Amount': 1542.98, 'Merchant': 'Walmart', 'Location': 'Miami', 'Transaction Type': 'Online Purchase', 'Timestamp': '2025-02-09 16:17:56'}, Prediction: ✅ Legit\n"
     ]
    },
    {
     "name": "stderr",
     "output_type": "stream",
     "text": [
      "/Users/kdn_aigayatrikadam/Desktop/fraud detection/env/lib/python3.13/site-packages/sklearn/utils/validation.py:2739: UserWarning: X does not have valid feature names, but IsolationForest was fitted with feature names\n",
      "  warnings.warn(\n"
     ]
    },
    {
     "name": "stdout",
     "output_type": "stream",
     "text": [
      "[2025-02-09 16:17:57] Transaction: {'Amount': 1715.45, 'Merchant': 'BestBuy', 'Location': 'Chicago', 'Transaction Type': 'Wire Transfer', 'Timestamp': '2025-02-09 16:17:57'}, Prediction: ✅ Legit\n"
     ]
    },
    {
     "name": "stderr",
     "output_type": "stream",
     "text": [
      "/Users/kdn_aigayatrikadam/Desktop/fraud detection/env/lib/python3.13/site-packages/sklearn/utils/validation.py:2739: UserWarning: X does not have valid feature names, but IsolationForest was fitted with feature names\n",
      "  warnings.warn(\n"
     ]
    },
    {
     "name": "stdout",
     "output_type": "stream",
     "text": [
      "[2025-02-09 16:17:58] Transaction: {'Amount': 19914.19, 'Merchant': 'Uber', 'Location': 'Houston', 'Transaction Type': 'Online Purchase', 'Timestamp': '2025-02-09 16:17:58'}, Prediction: ✅ Legit\n"
     ]
    },
    {
     "name": "stderr",
     "output_type": "stream",
     "text": [
      "/Users/kdn_aigayatrikadam/Desktop/fraud detection/env/lib/python3.13/site-packages/sklearn/utils/validation.py:2739: UserWarning: X does not have valid feature names, but IsolationForest was fitted with feature names\n",
      "  warnings.warn(\n"
     ]
    },
    {
     "name": "stdout",
     "output_type": "stream",
     "text": [
      "[2025-02-09 16:17:59] Transaction: {'Amount': 1491.05, 'Merchant': 'Netflix', 'Location': 'Houston', 'Transaction Type': 'Online Purchase', 'Timestamp': '2025-02-09 16:17:59'}, Prediction: ✅ Legit\n"
     ]
    },
    {
     "name": "stderr",
     "output_type": "stream",
     "text": [
      "/Users/kdn_aigayatrikadam/Desktop/fraud detection/env/lib/python3.13/site-packages/sklearn/utils/validation.py:2739: UserWarning: X does not have valid feature names, but IsolationForest was fitted with feature names\n",
      "  warnings.warn(\n"
     ]
    },
    {
     "name": "stdout",
     "output_type": "stream",
     "text": [
      "[2025-02-09 16:18:00] Transaction: {'Amount': 3953.89, 'Merchant': 'Amazon', 'Location': 'San Francisco', 'Transaction Type': 'Online Purchase', 'Timestamp': '2025-02-09 16:18:00'}, Prediction: ✅ Legit\n"
     ]
    },
    {
     "name": "stderr",
     "output_type": "stream",
     "text": [
      "/Users/kdn_aigayatrikadam/Desktop/fraud detection/env/lib/python3.13/site-packages/sklearn/utils/validation.py:2739: UserWarning: X does not have valid feature names, but IsolationForest was fitted with feature names\n",
      "  warnings.warn(\n"
     ]
    },
    {
     "name": "stdout",
     "output_type": "stream",
     "text": [
      "[2025-02-09 16:18:01] Transaction: {'Amount': 3433.16, 'Merchant': 'Amazon', 'Location': 'Houston', 'Transaction Type': 'Online Purchase', 'Timestamp': '2025-02-09 16:18:01'}, Prediction: ✅ Legit\n"
     ]
    },
    {
     "name": "stderr",
     "output_type": "stream",
     "text": [
      "/Users/kdn_aigayatrikadam/Desktop/fraud detection/env/lib/python3.13/site-packages/sklearn/utils/validation.py:2739: UserWarning: X does not have valid feature names, but IsolationForest was fitted with feature names\n",
      "  warnings.warn(\n"
     ]
    },
    {
     "name": "stdout",
     "output_type": "stream",
     "text": [
      "[2025-02-09 16:18:02] Transaction: {'Amount': 1856.22, 'Merchant': 'PayPal', 'Location': 'Miami', 'Transaction Type': 'ATM Withdrawal', 'Timestamp': '2025-02-09 16:18:02'}, Prediction: ✅ Legit\n"
     ]
    },
    {
     "name": "stderr",
     "output_type": "stream",
     "text": [
      "/Users/kdn_aigayatrikadam/Desktop/fraud detection/env/lib/python3.13/site-packages/sklearn/utils/validation.py:2739: UserWarning: X does not have valid feature names, but IsolationForest was fitted with feature names\n",
      "  warnings.warn(\n"
     ]
    },
    {
     "name": "stdout",
     "output_type": "stream",
     "text": [
      "[2025-02-09 16:18:03] Transaction: {'Amount': 2190.57, 'Merchant': 'Uber', 'Location': 'Chicago', 'Transaction Type': 'ATM Withdrawal', 'Timestamp': '2025-02-09 16:18:03'}, Prediction: ✅ Legit\n"
     ]
    },
    {
     "name": "stderr",
     "output_type": "stream",
     "text": [
      "/Users/kdn_aigayatrikadam/Desktop/fraud detection/env/lib/python3.13/site-packages/sklearn/utils/validation.py:2739: UserWarning: X does not have valid feature names, but IsolationForest was fitted with feature names\n",
      "  warnings.warn(\n"
     ]
    },
    {
     "name": "stdout",
     "output_type": "stream",
     "text": [
      "[2025-02-09 16:18:04] Transaction: {'Amount': 2248.82, 'Merchant': 'PayPal', 'Location': 'Los Angeles', 'Transaction Type': 'Online Purchase', 'Timestamp': '2025-02-09 16:18:04'}, Prediction: ✅ Legit\n"
     ]
    },
    {
     "name": "stderr",
     "output_type": "stream",
     "text": [
      "/Users/kdn_aigayatrikadam/Desktop/fraud detection/env/lib/python3.13/site-packages/sklearn/utils/validation.py:2739: UserWarning: X does not have valid feature names, but IsolationForest was fitted with feature names\n",
      "  warnings.warn(\n"
     ]
    },
    {
     "name": "stdout",
     "output_type": "stream",
     "text": [
      "[2025-02-09 16:18:05] Transaction: {'Amount': 17166.73, 'Merchant': 'BestBuy', 'Location': 'Miami', 'Transaction Type': 'Online Purchase', 'Timestamp': '2025-02-09 16:18:05'}, Prediction: ✅ Legit\n"
     ]
    },
    {
     "name": "stderr",
     "output_type": "stream",
     "text": [
      "/Users/kdn_aigayatrikadam/Desktop/fraud detection/env/lib/python3.13/site-packages/sklearn/utils/validation.py:2739: UserWarning: X does not have valid feature names, but IsolationForest was fitted with feature names\n",
      "  warnings.warn(\n"
     ]
    },
    {
     "name": "stdout",
     "output_type": "stream",
     "text": [
      "[2025-02-09 16:18:06] Transaction: {'Amount': 1334.4, 'Merchant': 'Uber', 'Location': 'Miami', 'Transaction Type': 'Online Purchase', 'Timestamp': '2025-02-09 16:18:06'}, Prediction: ✅ Legit\n"
     ]
    },
    {
     "name": "stderr",
     "output_type": "stream",
     "text": [
      "/Users/kdn_aigayatrikadam/Desktop/fraud detection/env/lib/python3.13/site-packages/sklearn/utils/validation.py:2739: UserWarning: X does not have valid feature names, but IsolationForest was fitted with feature names\n",
      "  warnings.warn(\n"
     ]
    },
    {
     "name": "stdout",
     "output_type": "stream",
     "text": [
      "[2025-02-09 16:18:07] Transaction: {'Amount': 3030.4, 'Merchant': 'BestBuy', 'Location': 'Houston', 'Transaction Type': 'ATM Withdrawal', 'Timestamp': '2025-02-09 16:18:07'}, Prediction: ✅ Legit\n"
     ]
    },
    {
     "name": "stderr",
     "output_type": "stream",
     "text": [
      "/Users/kdn_aigayatrikadam/Desktop/fraud detection/env/lib/python3.13/site-packages/sklearn/utils/validation.py:2739: UserWarning: X does not have valid feature names, but IsolationForest was fitted with feature names\n",
      "  warnings.warn(\n"
     ]
    },
    {
     "name": "stdout",
     "output_type": "stream",
     "text": [
      "[2025-02-09 16:18:08] Transaction: {'Amount': 4627.99, 'Merchant': 'PayPal', 'Location': 'San Francisco', 'Transaction Type': 'POS Purchase', 'Timestamp': '2025-02-09 16:18:08'}, Prediction: ✅ Legit\n"
     ]
    },
    {
     "name": "stderr",
     "output_type": "stream",
     "text": [
      "/Users/kdn_aigayatrikadam/Desktop/fraud detection/env/lib/python3.13/site-packages/sklearn/utils/validation.py:2739: UserWarning: X does not have valid feature names, but IsolationForest was fitted with feature names\n",
      "  warnings.warn(\n"
     ]
    },
    {
     "name": "stdout",
     "output_type": "stream",
     "text": [
      "[2025-02-09 16:18:09] Transaction: {'Amount': 89.99, 'Merchant': 'PayPal', 'Location': 'Chicago', 'Transaction Type': 'Wire Transfer', 'Timestamp': '2025-02-09 16:18:09'}, Prediction: ✅ Legit\n"
     ]
    }
   ],
   "source": [
    "stream_transactions()"
   ]
  },
  {
   "cell_type": "code",
   "execution_count": null,
   "id": "d1c61d6e-39a9-4477-b1b0-5bd9a0f2720f",
   "metadata": {},
   "outputs": [],
   "source": []
  }
 ],
 "metadata": {
  "kernelspec": {
   "display_name": "Python 3 (ipykernel)",
   "language": "python",
   "name": "python3"
  },
  "language_info": {
   "codemirror_mode": {
    "name": "ipython",
    "version": 3
   },
   "file_extension": ".py",
   "mimetype": "text/x-python",
   "name": "python",
   "nbconvert_exporter": "python",
   "pygments_lexer": "ipython3",
   "version": "3.13.2"
  }
 },
 "nbformat": 4,
 "nbformat_minor": 5
}
